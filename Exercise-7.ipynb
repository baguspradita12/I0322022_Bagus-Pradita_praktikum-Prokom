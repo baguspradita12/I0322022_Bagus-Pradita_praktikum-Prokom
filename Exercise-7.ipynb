{
 "cells": [
  {
   "cell_type": "code",
   "execution_count": 27,
   "metadata": {},
   "outputs": [
    {
     "data": {
      "text/plain": [
       "[['4', '5'], ['2', '7'], ['8', '4']]"
      ]
     },
     "execution_count": 27,
     "metadata": {},
     "output_type": "execute_result"
    }
   ],
   "source": [
    "#Buatlah sebuah fungsi untuk membuat matrix berdasarkan input dari user\n",
    "\n",
    "def create_matrix(baris,kolom):\n",
    "    matrix = []\n",
    "\n",
    "    #Tulis kode kamu dis\n",
    "    \n",
    "    for i in range(baris):\n",
    "        row = []\n",
    "        for j in range(kolom):\n",
    "            elemen = input(f\"Masukkan matrix pada baris{i+1} dan kolom{j+1}: \")\n",
    "            row.append(elemen)\n",
    "        matrix.append(row)\n",
    "    return matrix\n",
    "\n",
    "    print(\"Matrix:\")\n",
    "    for row in matrix:\n",
    "        for elemen in row:\n",
    "            print(elemen, end=\" \")\n",
    "        print()\n",
    "\n",
    "baris = int(input('Masukkan Jumlah Baris:\\t'))\n",
    "kolom = int(input('Masukkan Jumlah Kolom:\\t'))\n",
    "\n",
    "create_matrix(baris, kolom)\n",
    "\n"
   ]
  },
  {
   "cell_type": "code",
   "execution_count": 38,
   "metadata": {},
   "outputs": [
    {
     "name": "stdout",
     "output_type": "stream",
     "text": [
      "Jadi hasil penjumlahan kedua matriks adalah:\n",
      "4 4 \n",
      "4 4 \n"
     ]
    }
   ],
   "source": [
    "#Buatlah sebuah fungsi untuk menambah dua matrix berdasarkan input user\n",
    "\n",
    "def tambah_matrix(matrix1,matrix2):\n",
    "    tambah = []\n",
    "\n",
    "    #Tulis kode kamu disini\n",
    "    baris = int(input(\"Masukkan jumlah baris matrix: \"))\n",
    "    kolom = int(input(\"Masukkan jumlah kolom matrix: \"))\n",
    "\n",
    "    matrix1 = []\n",
    "    for i in range(baris):\n",
    "        row = []\n",
    "        for j in range(kolom):\n",
    "            elemen1 = int(input('Masukkan matrix pertama: '))\n",
    "            row.append(elemen1)\n",
    "        matrix1.append(row)\n",
    "\n",
    "    matrix2 = []\n",
    "    for i in range(baris):\n",
    "        row = []\n",
    "        for j in range(kolom):\n",
    "            elemen2 = int(input('Masukkan matrix kedua: '))\n",
    "            row.append(elemen2)\n",
    "            matrix2.append(row)\n",
    "\n",
    "    tambah = []\n",
    "    for i in range(baris):\n",
    "        row = []\n",
    "        for j in range(kolom):\n",
    "            elemen = matrix1[i][j] + matrix2[i][j]\n",
    "            row.append(elemen)\n",
    "        tambah.append(row)\n",
    "\n",
    "    for row in tambah:\n",
    "        for elemen in row:\n",
    "            print(elemen, end=\" \")\n",
    "        print()\n",
    "\n",
    "tambah_matriks()"
   ]
  },
  {
   "cell_type": "code",
   "execution_count": 37,
   "metadata": {},
   "outputs": [
    {
     "name": "stdout",
     "output_type": "stream",
     "text": [
      "[12, 13, 12]\n",
      "[12, 13, 12]\n",
      "[12, 13, 12]\n"
     ]
    }
   ],
   "source": [
    "#Buatlah fungsi untuk mengakalikan dua buah matrix berdasarkan input user\n",
    "\n",
    "def multiply_matrix(matrix1, matrix2):\n",
    "    result=[]\n",
    "\n",
    "    #Tulis kode kamu disini\n",
    "    for i in range(len(matrix1)):\n",
    "        row = []\n",
    "        for j in range(len(matrix2[0])):\n",
    "            elemen = 0\n",
    "            for k in range(len(matrix2)):\n",
    "                elemen += matrix1[i][k] * matrix2[k][j]\n",
    "            row.append(elemen)\n",
    "        result.append(row)\n",
    "\n",
    "    return result\n",
    "\n",
    "def input_matrix():\n",
    "    matrix = []\n",
    "    baris = int(input(\"Masukkan jumlah baris: \"))\n",
    "    kolom = int(input(\"Masukkan jumlah kolom: \"))\n",
    "\n",
    "    for i in range(baris):\n",
    "        row = []\n",
    "        for j in range(kolom):\n",
    "            elemen = int(input(f\"Masukkan elemen matriks [{i}][{j}]: \"))\n",
    "            row.append(elemen)\n",
    "        matrix.append(row)\n",
    "    return matrix\n",
    "matrix1 = input_matrix()\n",
    "matrix2 = input_matrix()\n",
    "hasil_perkalian = multiply_matrix(matrix1, matrix2)\n",
    "\n",
    "for row in hasil_perkalian:\n",
    "    print(row)\n"
   ]
  }
 ],
 "metadata": {
  "language_info": {
   "name": "python"
  },
  "orig_nbformat": 4
 },
 "nbformat": 4,
 "nbformat_minor": 2
}
