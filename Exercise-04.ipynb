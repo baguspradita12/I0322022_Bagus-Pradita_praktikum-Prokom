{
 "cells": [
  {
   "cell_type": "code",
   "execution_count": 2,
   "metadata": {},
   "outputs": [
    {
     "name": "stdout",
     "output_type": "stream",
     "text": [
      "Bagus Pradita\n",
      "I0322022\n",
      "A\n"
     ]
    }
   ],
   "source": [
    "print(input(\"Nama: \"))\n",
    "print(input(\"NIM: \"))\n",
    "print(input(\"Kelas: \"))"
   ]
  },
  {
   "attachments": {},
   "cell_type": "markdown",
   "metadata": {},
   "source": [
    "## 1."
   ]
  },
  {
   "attachments": {},
   "cell_type": "markdown",
   "metadata": {},
   "source": [
    "Buatlah program persyaratan pembuatan SIM dengan input yaitu nama user, umur user, dan nilai tes user.<br>\n",
    "Dengan ketentuan mendapat SIM sebagai berikut:\n",
    "* Umur dari user harus lebih dari sama dengan 17 tahun\n",
    "* Nilai tes lebih dari sama dengan 70\n",
    "\n",
    "<br>Output yang dihasilkan dari program adalah:\n",
    "<br>\"Selamat Anda Berhak Mendapatkan SIM Anda\"\n",
    "<br>\"Maaf, Anda tidak berhak mendapatkan SIM anda\"\n",
    "> *note: Kerjakan soal ini dengan percabangan*"
   ]
  },
  {
   "cell_type": "code",
   "execution_count": 1,
   "metadata": {},
   "outputs": [
    {
     "name": "stdout",
     "output_type": "stream",
     "text": [
      "Selamat Anda Berhak Mendapatkan SIM Anda\n"
     ]
    }
   ],
   "source": [
    "# Kerjakan soal no 1 di sini\n",
    "nama = input(\"Masukan Nama\")\n",
    "umur = int(input(\"Masukan Umur\"))\n",
    "nilai = int(input(\"Masukan Nilai\"))\n",
    "\n",
    "if umur >= 17:\n",
    "    if nilai >= 70:\n",
    "        print (\"Selamat Anda Berhak Mendapatkan SIM Anda\")\n",
    "    else:\n",
    "        print(\"Maaf, Anda Tidak Berhak Mendapatkan SIM Anda\")\n",
    "else:\n",
    "    print(\"Maaf, Anda Tidak berhak Mendapatkan SIM Anda\")\n"
   ]
  },
  {
   "attachments": {},
   "cell_type": "markdown",
   "metadata": {},
   "source": [
    "## 2."
   ]
  },
  {
   "attachments": {},
   "cell_type": "markdown",
   "metadata": {},
   "source": [
    "Buatlah program untuk mencari bilangan terbesar yang diinput dari user.<br>\n",
    "<br>Dengan ketentuan sebagai berikut:\n",
    "* Program nenerima 3 input bilangan dari user\n",
    "* Program akan menentukan mana bilangan terbesar\n",
    "* Output yang akan dihasilkan misalnya adalah \"Dari bil_1, bil_2, dan bil_3, bilangan terbesarnya adalah bilangan bil_2\"\n",
    "> *note: Kerjakan soal ini dengan percabangan*"
   ]
  },
  {
   "cell_type": "code",
   "execution_count": 4,
   "metadata": {},
   "outputs": [
    {
     "name": "stdout",
     "output_type": "stream",
     "text": [
      "dari 20 , 21 , 50 , bilangan terbesarnya adalah bilangan 50\n"
     ]
    }
   ],
   "source": [
    "# Kerjakan soal nomor 2 disini\n",
    "bil_1 = int(input(\"masukan bilangan pertama\"))\n",
    "bil_2 = int(input(\"masukan bilangan kedua\"))\n",
    "bil_3 = int(input(\"masukan bilangan ketiga\"))\n",
    "\n",
    "if bil_1 > bil_2 and bil_1 > bil_3:\n",
    "    print(\"dari\", bil_1, \",\", bil_2, \",\", bil_3, \",\", \"bilangan terbesarnya adalah bilangan\", bil_1)\n",
    "elif bil_2 > bil_1 and bil_2 > bil_3:\n",
    "    print(\"dari\", bil_1, \",\", bil_2, \",\", bil_3, \",\", \"bilangan terbesarnya adalah bilangan\", bil_2)\n",
    "else:\n",
    "     print(\"dari\", bil_1, \",\", bil_2, \",\", bil_3, \",\", \"bilangan terbesarnya adalah bilangan\", bil_3)\n"
   ]
  }
 ],
 "metadata": {
  "kernelspec": {
   "display_name": "Python 3",
   "language": "python",
   "name": "python3"
  },
  "language_info": {
   "codemirror_mode": {
    "name": "ipython",
    "version": 3
   },
   "file_extension": ".py",
   "mimetype": "text/x-python",
   "name": "python",
   "nbconvert_exporter": "python",
   "pygments_lexer": "ipython3",
   "version": "3.10.10"
  },
  "orig_nbformat": 4
 },
 "nbformat": 4,
 "nbformat_minor": 2
}
