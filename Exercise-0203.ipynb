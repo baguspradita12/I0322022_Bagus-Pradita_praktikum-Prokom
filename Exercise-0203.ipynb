{
 "cells": [
  {
   "cell_type": "code",
   "execution_count": 3,
   "metadata": {},
   "outputs": [
    {
     "name": "stdout",
     "output_type": "stream",
     "text": [
      "Bagus Pradita\n",
      "I0322022\n",
      "A\n"
     ]
    }
   ],
   "source": [
    "print(input(\"Nama: \"))\n",
    "print(input(\"NIM: \"))\n",
    "print(input(\"Kelas: \"))"
   ]
  },
  {
   "attachments": {},
   "cell_type": "markdown",
   "metadata": {},
   "source": [
    "## 1."
   ]
  },
  {
   "attachments": {},
   "cell_type": "markdown",
   "metadata": {},
   "source": [
    "buatlah program sederhana untuk menghitung umur pengguna dengan ketentuan sebagai berikut :\n",
    "* Program meminta pengguna memasukan tanggal, bulan, dan tahun lahir\n",
    "* Program menghitung umur pengguna hingga tanggal 1 januari 2023\n",
    "* Program menampilkan umur dari pengguna"
   ]
  },
  {
   "cell_type": "code",
   "execution_count": 8,
   "metadata": {},
   "outputs": [
    {
     "name": "stdout",
     "output_type": "stream",
     "text": [
      "umur pengguna 18 tahun\n"
     ]
    }
   ],
   "source": [
    "Tanggal_Lahir = int(input(\"masukan tanggal lahir\"))\n",
    "Bulan_Lahir = int(input(\"masukan bulan lahir\"))\n",
    "Tahun_Lahir = int(input(\"masukan tahun lahir\"))\n",
    "\n",
    "if Tanggal_Lahir == 1:\n",
    "    if Bulan_Lahir == 1:\n",
    "        Umur = 2023 - Tahun_Lahir\n",
    "else: Umur = 2023 - 1 - Tahun_Lahir\n",
    "\n",
    "print(\"umur pengguna\", Umur, \"tahun\")"
   ]
  },
  {
   "attachments": {},
   "cell_type": "markdown",
   "metadata": {},
   "source": [
    "## 2."
   ]
  },
  {
   "attachments": {},
   "cell_type": "markdown",
   "metadata": {},
   "source": [
    "Pada 2015, wabah flu burung menyerang Indonesia dan beberapa peternak ayam mengalami kerugian karena banyaknya ayam yang mati. Setiap bulan, jumlah ayamnya berkurang menjadi setengah. Setelah dua bulan, jumlah ayam yang tersisa adalah 200 ekor. Hitunglah jumlah ayam sebelumnya yang dimiliki peternak tersebut! (gunakan rumus deret geometri)\n",
    "\n",
    "> *note: SOAL DIATAS DIKERJAKAN SESUAI DENGAN RUMUS BAKU*"
   ]
  },
  {
   "cell_type": "code",
   "execution_count": 10,
   "metadata": {},
   "outputs": [
    {
     "name": "stdout",
     "output_type": "stream",
     "text": [
      "800.0\n"
     ]
    }
   ],
   "source": [
    "a = Un/(r**(n-1))\n",
    "Un = U3 = 200\n",
    "r = 1/2\n",
    "n = 3\n",
    "\n",
    "print(a)"
   ]
  },
  {
   "attachments": {},
   "cell_type": "markdown",
   "metadata": {},
   "source": [
    "## 3. "
   ]
  },
  {
   "attachments": {},
   "cell_type": "markdown",
   "metadata": {},
   "source": [
    "* **A** Hitunglah luas Prisma Segitiga dengan ketentuan sebagai berikut:\n",
    "    * Alas dan tutup prisma merupakan segitiga\n",
    "    * Terdapat 3 persegi panjang yang menyinggung alas dan tutup prisma\n",
    "    * Sisi persegi panjang yang menyinggung segitiga adalah sisi lebar\n",
    "```python\n",
    "    dictionary_figure = {\"Persegi\":{\"Sisi\":22},\n",
    "                        \"Persegi Panjang\":{\"Panjang\":10,\"Lebar\":5},\n",
    "                        \"Segitiga Sama Sisi\":{\"Sisi\":6,\"Tinggi\":3**(1/2) * 3},\n",
    "                        \"Lingkaran\":{\"Diameter\":7}}\n",
    "```\n",
    "* **B** Hitunglah luas Tabung dengan ketentuan sebagai berikut:\n",
    "    * Alas dan tutup tabung merupakan lingkaran\n",
    "    * Terdapat 1 persegi yang menyinggung alas dan tutup tabung\n",
    "    * Persegi yang ada mengelilingi lingkaran hingga sisi dari persegi saling bertemu\n",
    "\n",
    "> *note: Pada soal ini kalian hanya boleh menggunakan key-value pair dan index pada list. Tidak diperbolehkan menulis secara langsung dimensi dari figure*"
   ]
  },
  {
   "cell_type": "code",
   "execution_count": 18,
   "metadata": {},
   "outputs": [
    {
     "name": "stdout",
     "output_type": "stream",
     "text": [
      "luas prisma adalah 181.1769145362398\n",
      "luas tabung asalah 560.9300000000001\n"
     ]
    }
   ],
   "source": [
    "\n",
    "selimut = dictionary_figure['Persegi Panjang']['Panjang']*dictionary_figure['Persegi Panjang']['Lebar']\n",
    "alas = 1/2*dictionary_figure['Segitiga Sama Sisi']['Sisi']*dictionary_figure['Segitiga Sama Sisi']['Tinggi']\n",
    "\n",
    "prisma = 2*alas + 3*selimut\n",
    "print(\"luas prisma adalah\", prisma)\n",
    "\n",
    "alas = 1/4*3.14*dictionary_figure['Lingkaran']['Diameter']*dictionary_figure['Lingkaran']['Diameter']\n",
    "selimut = dictionary_figure['Persegi']['Sisi']*dictionary_figure['Persegi']['Sisi']\n",
    "\n",
    "luas_tabung = 2*alas+selimut\n",
    "print(\"luas tabung asalah\", luas_tabung)"
   ]
  }
 ],
 "metadata": {
  "kernelspec": {
   "display_name": "Python 3",
   "language": "python",
   "name": "python3"
  },
  "language_info": {
   "codemirror_mode": {
    "name": "ipython",
    "version": 3
   },
   "file_extension": ".py",
   "mimetype": "text/x-python",
   "name": "python",
   "nbconvert_exporter": "python",
   "pygments_lexer": "ipython3",
   "version": "3.10.10"
  },
  "orig_nbformat": 4,
  "vscode": {
   "interpreter": {
    "hash": "5addf786bcd861d1ce5006f23111f8cbb206731e5b61b0a5632ba9e0252558a8"
   }
  }
 },
 "nbformat": 4,
 "nbformat_minor": 2
}
